{
  "metadata": {
    "kernelspec": {
      "language": "python",
      "display_name": "Python 3",
      "name": "python3"
    },
    "language_info": {
      "name": "python",
      "version": "3.10.14",
      "mimetype": "text/x-python",
      "codemirror_mode": {
        "name": "ipython",
        "version": 3
      },
      "pygments_lexer": "ipython3",
      "nbconvert_exporter": "python",
      "file_extension": ".py"
    },
    "kaggle": {
      "accelerator": "none",
      "dataSources": [],
      "dockerImageVersionId": 30761,
      "isInternetEnabled": true,
      "language": "python",
      "sourceType": "notebook",
      "isGpuEnabled": false
    },
    "colab": {
      "provenance": []
    }
  },
  "nbformat_minor": 0,
  "nbformat": 4,
  "cells": [
    {
      "cell_type": "code",
      "source": [
        "!pip install llama-index\n",
        "!pip install newsapi-python\n",
        "!pip install yfinance"
      ],
      "metadata": {
        "_uuid": "8f2839f25d086af736a60e9eeb907d3b93b6e0e5",
        "_cell_guid": "b1076dfc-b9ad-4769-8c92-a6c4dae69d19",
        "execution": {
          "iopub.status.busy": "2024-09-07T10:14:07.622225Z",
          "iopub.execute_input": "2024-09-07T10:14:07.622688Z",
          "iopub.status.idle": "2024-09-07T10:15:38.085934Z",
          "shell.execute_reply.started": "2024-09-07T10:14:07.622637Z",
          "shell.execute_reply": "2024-09-07T10:15:38.084361Z"
        },
        "trusted": true,
        "id": "9GR-VA8FybeA",
        "outputId": "8e88fddd-7b9e-4a54-bd11-71cff2db6de4",
        "colab": {
          "base_uri": "https://localhost:8080/"
        }
      },
      "execution_count": 1,
      "outputs": [
        {
          "output_type": "stream",
          "name": "stdout",
          "text": [
            "Collecting llama-index\n",
            "  Downloading llama_index-0.11.10-py3-none-any.whl.metadata (11 kB)\n",
            "Collecting llama-index-agent-openai<0.4.0,>=0.3.1 (from llama-index)\n",
            "  Downloading llama_index_agent_openai-0.3.4-py3-none-any.whl.metadata (728 bytes)\n",
            "Collecting llama-index-cli<0.4.0,>=0.3.1 (from llama-index)\n",
            "  Downloading llama_index_cli-0.3.1-py3-none-any.whl.metadata (1.5 kB)\n",
            "Collecting llama-index-core<0.12.0,>=0.11.10 (from llama-index)\n",
            "  Downloading llama_index_core-0.11.10-py3-none-any.whl.metadata (2.4 kB)\n",
            "Collecting llama-index-embeddings-openai<0.3.0,>=0.2.4 (from llama-index)\n",
            "  Downloading llama_index_embeddings_openai-0.2.5-py3-none-any.whl.metadata (686 bytes)\n",
            "Collecting llama-index-indices-managed-llama-cloud>=0.3.0 (from llama-index)\n",
            "  Downloading llama_index_indices_managed_llama_cloud-0.3.1-py3-none-any.whl.metadata (3.8 kB)\n",
            "Collecting llama-index-legacy<0.10.0,>=0.9.48 (from llama-index)\n",
            "  Downloading llama_index_legacy-0.9.48.post3-py3-none-any.whl.metadata (8.5 kB)\n",
            "Collecting llama-index-llms-openai<0.3.0,>=0.2.3 (from llama-index)\n",
            "  Downloading llama_index_llms_openai-0.2.9-py3-none-any.whl.metadata (648 bytes)\n",
            "Collecting llama-index-multi-modal-llms-openai<0.3.0,>=0.2.0 (from llama-index)\n",
            "  Downloading llama_index_multi_modal_llms_openai-0.2.1-py3-none-any.whl.metadata (728 bytes)\n",
            "Collecting llama-index-program-openai<0.3.0,>=0.2.0 (from llama-index)\n",
            "  Downloading llama_index_program_openai-0.2.0-py3-none-any.whl.metadata (766 bytes)\n",
            "Collecting llama-index-question-gen-openai<0.3.0,>=0.2.0 (from llama-index)\n",
            "  Downloading llama_index_question_gen_openai-0.2.0-py3-none-any.whl.metadata (785 bytes)\n",
            "Collecting llama-index-readers-file<0.3.0,>=0.2.0 (from llama-index)\n",
            "  Downloading llama_index_readers_file-0.2.2-py3-none-any.whl.metadata (5.4 kB)\n",
            "Collecting llama-index-readers-llama-parse>=0.3.0 (from llama-index)\n",
            "  Downloading llama_index_readers_llama_parse-0.3.0-py3-none-any.whl.metadata (3.5 kB)\n",
            "Collecting nltk>3.8.1 (from llama-index)\n",
            "  Downloading nltk-3.9.1-py3-none-any.whl.metadata (2.9 kB)\n",
            "Collecting openai>=1.14.0 (from llama-index-agent-openai<0.4.0,>=0.3.1->llama-index)\n",
            "  Downloading openai-1.47.0-py3-none-any.whl.metadata (24 kB)\n",
            "Requirement already satisfied: PyYAML>=6.0.1 in /usr/local/lib/python3.10/dist-packages (from llama-index-core<0.12.0,>=0.11.10->llama-index) (6.0.2)\n",
            "Requirement already satisfied: SQLAlchemy>=1.4.49 in /usr/local/lib/python3.10/dist-packages (from SQLAlchemy[asyncio]>=1.4.49->llama-index-core<0.12.0,>=0.11.10->llama-index) (2.0.35)\n",
            "Requirement already satisfied: aiohttp<4.0.0,>=3.8.6 in /usr/local/lib/python3.10/dist-packages (from llama-index-core<0.12.0,>=0.11.10->llama-index) (3.10.5)\n",
            "Collecting dataclasses-json (from llama-index-core<0.12.0,>=0.11.10->llama-index)\n",
            "  Downloading dataclasses_json-0.6.7-py3-none-any.whl.metadata (25 kB)\n",
            "Collecting deprecated>=1.2.9.3 (from llama-index-core<0.12.0,>=0.11.10->llama-index)\n",
            "  Downloading Deprecated-1.2.14-py2.py3-none-any.whl.metadata (5.4 kB)\n",
            "Collecting dirtyjson<2.0.0,>=1.0.8 (from llama-index-core<0.12.0,>=0.11.10->llama-index)\n",
            "  Downloading dirtyjson-1.0.8-py3-none-any.whl.metadata (11 kB)\n",
            "Requirement already satisfied: fsspec>=2023.5.0 in /usr/local/lib/python3.10/dist-packages (from llama-index-core<0.12.0,>=0.11.10->llama-index) (2024.6.1)\n",
            "Collecting httpx (from llama-index-core<0.12.0,>=0.11.10->llama-index)\n",
            "  Downloading httpx-0.27.2-py3-none-any.whl.metadata (7.1 kB)\n",
            "Requirement already satisfied: nest-asyncio<2.0.0,>=1.5.8 in /usr/local/lib/python3.10/dist-packages (from llama-index-core<0.12.0,>=0.11.10->llama-index) (1.6.0)\n",
            "Requirement already satisfied: networkx>=3.0 in /usr/local/lib/python3.10/dist-packages (from llama-index-core<0.12.0,>=0.11.10->llama-index) (3.3)\n",
            "Requirement already satisfied: numpy<2.0.0 in /usr/local/lib/python3.10/dist-packages (from llama-index-core<0.12.0,>=0.11.10->llama-index) (1.26.4)\n",
            "Requirement already satisfied: pillow>=9.0.0 in /usr/local/lib/python3.10/dist-packages (from llama-index-core<0.12.0,>=0.11.10->llama-index) (10.4.0)\n",
            "Requirement already satisfied: pydantic<3.0.0,>=2.7.0 in /usr/local/lib/python3.10/dist-packages (from llama-index-core<0.12.0,>=0.11.10->llama-index) (2.9.2)\n",
            "Requirement already satisfied: requests>=2.31.0 in /usr/local/lib/python3.10/dist-packages (from llama-index-core<0.12.0,>=0.11.10->llama-index) (2.32.3)\n",
            "Collecting tenacity!=8.4.0,<9.0.0,>=8.2.0 (from llama-index-core<0.12.0,>=0.11.10->llama-index)\n",
            "  Downloading tenacity-8.5.0-py3-none-any.whl.metadata (1.2 kB)\n",
            "Collecting tiktoken>=0.3.3 (from llama-index-core<0.12.0,>=0.11.10->llama-index)\n",
            "  Downloading tiktoken-0.7.0-cp310-cp310-manylinux_2_17_x86_64.manylinux2014_x86_64.whl.metadata (6.6 kB)\n",
            "Requirement already satisfied: tqdm<5.0.0,>=4.66.1 in /usr/local/lib/python3.10/dist-packages (from llama-index-core<0.12.0,>=0.11.10->llama-index) (4.66.5)\n",
            "Requirement already satisfied: typing-extensions>=4.5.0 in /usr/local/lib/python3.10/dist-packages (from llama-index-core<0.12.0,>=0.11.10->llama-index) (4.12.2)\n",
            "Collecting typing-inspect>=0.8.0 (from llama-index-core<0.12.0,>=0.11.10->llama-index)\n",
            "  Downloading typing_inspect-0.9.0-py3-none-any.whl.metadata (1.5 kB)\n",
            "Requirement already satisfied: wrapt in /usr/local/lib/python3.10/dist-packages (from llama-index-core<0.12.0,>=0.11.10->llama-index) (1.16.0)\n",
            "Collecting llama-cloud>=0.0.11 (from llama-index-indices-managed-llama-cloud>=0.3.0->llama-index)\n",
            "  Downloading llama_cloud-0.0.17-py3-none-any.whl.metadata (751 bytes)\n",
            "Requirement already satisfied: pandas in /usr/local/lib/python3.10/dist-packages (from llama-index-legacy<0.10.0,>=0.9.48->llama-index) (2.1.4)\n",
            "Requirement already satisfied: beautifulsoup4<5.0.0,>=4.12.3 in /usr/local/lib/python3.10/dist-packages (from llama-index-readers-file<0.3.0,>=0.2.0->llama-index) (4.12.3)\n",
            "Collecting pypdf<5.0.0,>=4.0.1 (from llama-index-readers-file<0.3.0,>=0.2.0->llama-index)\n",
            "  Downloading pypdf-4.3.1-py3-none-any.whl.metadata (7.4 kB)\n",
            "Collecting striprtf<0.0.27,>=0.0.26 (from llama-index-readers-file<0.3.0,>=0.2.0->llama-index)\n",
            "  Downloading striprtf-0.0.26-py3-none-any.whl.metadata (2.1 kB)\n",
            "Collecting llama-parse>=0.5.0 (from llama-index-readers-llama-parse>=0.3.0->llama-index)\n",
            "  Downloading llama_parse-0.5.6-py3-none-any.whl.metadata (6.1 kB)\n",
            "Requirement already satisfied: click in /usr/local/lib/python3.10/dist-packages (from nltk>3.8.1->llama-index) (8.1.7)\n",
            "Requirement already satisfied: joblib in /usr/local/lib/python3.10/dist-packages (from nltk>3.8.1->llama-index) (1.4.2)\n",
            "Requirement already satisfied: regex>=2021.8.3 in /usr/local/lib/python3.10/dist-packages (from nltk>3.8.1->llama-index) (2024.9.11)\n",
            "Requirement already satisfied: aiohappyeyeballs>=2.3.0 in /usr/local/lib/python3.10/dist-packages (from aiohttp<4.0.0,>=3.8.6->llama-index-core<0.12.0,>=0.11.10->llama-index) (2.4.0)\n",
            "Requirement already satisfied: aiosignal>=1.1.2 in /usr/local/lib/python3.10/dist-packages (from aiohttp<4.0.0,>=3.8.6->llama-index-core<0.12.0,>=0.11.10->llama-index) (1.3.1)\n",
            "Requirement already satisfied: attrs>=17.3.0 in /usr/local/lib/python3.10/dist-packages (from aiohttp<4.0.0,>=3.8.6->llama-index-core<0.12.0,>=0.11.10->llama-index) (24.2.0)\n",
            "Requirement already satisfied: frozenlist>=1.1.1 in /usr/local/lib/python3.10/dist-packages (from aiohttp<4.0.0,>=3.8.6->llama-index-core<0.12.0,>=0.11.10->llama-index) (1.4.1)\n",
            "Requirement already satisfied: multidict<7.0,>=4.5 in /usr/local/lib/python3.10/dist-packages (from aiohttp<4.0.0,>=3.8.6->llama-index-core<0.12.0,>=0.11.10->llama-index) (6.1.0)\n",
            "Requirement already satisfied: yarl<2.0,>=1.0 in /usr/local/lib/python3.10/dist-packages (from aiohttp<4.0.0,>=3.8.6->llama-index-core<0.12.0,>=0.11.10->llama-index) (1.11.1)\n",
            "Requirement already satisfied: async-timeout<5.0,>=4.0 in /usr/local/lib/python3.10/dist-packages (from aiohttp<4.0.0,>=3.8.6->llama-index-core<0.12.0,>=0.11.10->llama-index) (4.0.3)\n",
            "Requirement already satisfied: soupsieve>1.2 in /usr/local/lib/python3.10/dist-packages (from beautifulsoup4<5.0.0,>=4.12.3->llama-index-readers-file<0.3.0,>=0.2.0->llama-index) (2.6)\n",
            "Requirement already satisfied: anyio in /usr/local/lib/python3.10/dist-packages (from httpx->llama-index-core<0.12.0,>=0.11.10->llama-index) (3.7.1)\n",
            "Requirement already satisfied: certifi in /usr/local/lib/python3.10/dist-packages (from httpx->llama-index-core<0.12.0,>=0.11.10->llama-index) (2024.8.30)\n",
            "Collecting httpcore==1.* (from httpx->llama-index-core<0.12.0,>=0.11.10->llama-index)\n",
            "  Downloading httpcore-1.0.5-py3-none-any.whl.metadata (20 kB)\n",
            "Requirement already satisfied: idna in /usr/local/lib/python3.10/dist-packages (from httpx->llama-index-core<0.12.0,>=0.11.10->llama-index) (3.10)\n",
            "Requirement already satisfied: sniffio in /usr/local/lib/python3.10/dist-packages (from httpx->llama-index-core<0.12.0,>=0.11.10->llama-index) (1.3.1)\n",
            "Collecting h11<0.15,>=0.13 (from httpcore==1.*->httpx->llama-index-core<0.12.0,>=0.11.10->llama-index)\n",
            "  Downloading h11-0.14.0-py3-none-any.whl.metadata (8.2 kB)\n",
            "Requirement already satisfied: distro<2,>=1.7.0 in /usr/lib/python3/dist-packages (from openai>=1.14.0->llama-index-agent-openai<0.4.0,>=0.3.1->llama-index) (1.7.0)\n",
            "Collecting jiter<1,>=0.4.0 (from openai>=1.14.0->llama-index-agent-openai<0.4.0,>=0.3.1->llama-index)\n",
            "  Downloading jiter-0.5.0-cp310-cp310-manylinux_2_17_x86_64.manylinux2014_x86_64.whl.metadata (3.6 kB)\n",
            "Requirement already satisfied: annotated-types>=0.6.0 in /usr/local/lib/python3.10/dist-packages (from pydantic<3.0.0,>=2.7.0->llama-index-core<0.12.0,>=0.11.10->llama-index) (0.7.0)\n",
            "Requirement already satisfied: pydantic-core==2.23.4 in /usr/local/lib/python3.10/dist-packages (from pydantic<3.0.0,>=2.7.0->llama-index-core<0.12.0,>=0.11.10->llama-index) (2.23.4)\n",
            "Requirement already satisfied: charset-normalizer<4,>=2 in /usr/local/lib/python3.10/dist-packages (from requests>=2.31.0->llama-index-core<0.12.0,>=0.11.10->llama-index) (3.3.2)\n",
            "Requirement already satisfied: urllib3<3,>=1.21.1 in /usr/local/lib/python3.10/dist-packages (from requests>=2.31.0->llama-index-core<0.12.0,>=0.11.10->llama-index) (2.0.7)\n",
            "Requirement already satisfied: greenlet!=0.4.17 in /usr/local/lib/python3.10/dist-packages (from SQLAlchemy>=1.4.49->SQLAlchemy[asyncio]>=1.4.49->llama-index-core<0.12.0,>=0.11.10->llama-index) (3.1.0)\n",
            "Collecting mypy-extensions>=0.3.0 (from typing-inspect>=0.8.0->llama-index-core<0.12.0,>=0.11.10->llama-index)\n",
            "  Downloading mypy_extensions-1.0.0-py3-none-any.whl.metadata (1.1 kB)\n",
            "Collecting marshmallow<4.0.0,>=3.18.0 (from dataclasses-json->llama-index-core<0.12.0,>=0.11.10->llama-index)\n",
            "  Downloading marshmallow-3.22.0-py3-none-any.whl.metadata (7.2 kB)\n",
            "Requirement already satisfied: python-dateutil>=2.8.2 in /usr/local/lib/python3.10/dist-packages (from pandas->llama-index-legacy<0.10.0,>=0.9.48->llama-index) (2.8.2)\n",
            "Requirement already satisfied: pytz>=2020.1 in /usr/local/lib/python3.10/dist-packages (from pandas->llama-index-legacy<0.10.0,>=0.9.48->llama-index) (2024.2)\n",
            "Requirement already satisfied: tzdata>=2022.1 in /usr/local/lib/python3.10/dist-packages (from pandas->llama-index-legacy<0.10.0,>=0.9.48->llama-index) (2024.1)\n",
            "Requirement already satisfied: exceptiongroup in /usr/local/lib/python3.10/dist-packages (from anyio->httpx->llama-index-core<0.12.0,>=0.11.10->llama-index) (1.2.2)\n",
            "Requirement already satisfied: packaging>=17.0 in /usr/local/lib/python3.10/dist-packages (from marshmallow<4.0.0,>=3.18.0->dataclasses-json->llama-index-core<0.12.0,>=0.11.10->llama-index) (24.1)\n",
            "Requirement already satisfied: six>=1.5 in /usr/local/lib/python3.10/dist-packages (from python-dateutil>=2.8.2->pandas->llama-index-legacy<0.10.0,>=0.9.48->llama-index) (1.16.0)\n",
            "Downloading llama_index-0.11.10-py3-none-any.whl (6.8 kB)\n",
            "Downloading llama_index_agent_openai-0.3.4-py3-none-any.whl (13 kB)\n",
            "Downloading llama_index_cli-0.3.1-py3-none-any.whl (27 kB)\n",
            "Downloading llama_index_core-0.11.10-py3-none-any.whl (1.6 MB)\n",
            "\u001b[2K   \u001b[90m━━━━━━━━━━━━━━━━━━━━━━━━━━━━━━━━━━━━━━━━\u001b[0m \u001b[32m1.6/1.6 MB\u001b[0m \u001b[31m32.5 MB/s\u001b[0m eta \u001b[36m0:00:00\u001b[0m\n",
            "\u001b[?25hDownloading llama_index_embeddings_openai-0.2.5-py3-none-any.whl (6.1 kB)\n",
            "Downloading llama_index_indices_managed_llama_cloud-0.3.1-py3-none-any.whl (10 kB)\n",
            "Downloading llama_index_legacy-0.9.48.post3-py3-none-any.whl (1.2 MB)\n",
            "\u001b[2K   \u001b[90m━━━━━━━━━━━━━━━━━━━━━━━━━━━━━━━━━━━━━━━━\u001b[0m \u001b[32m1.2/1.2 MB\u001b[0m \u001b[31m33.0 MB/s\u001b[0m eta \u001b[36m0:00:00\u001b[0m\n",
            "\u001b[?25hDownloading llama_index_llms_openai-0.2.9-py3-none-any.whl (12 kB)\n",
            "Downloading llama_index_multi_modal_llms_openai-0.2.1-py3-none-any.whl (5.9 kB)\n",
            "Downloading llama_index_program_openai-0.2.0-py3-none-any.whl (5.3 kB)\n",
            "Downloading llama_index_question_gen_openai-0.2.0-py3-none-any.whl (2.9 kB)\n",
            "Downloading llama_index_readers_file-0.2.2-py3-none-any.whl (38 kB)\n",
            "Downloading llama_index_readers_llama_parse-0.3.0-py3-none-any.whl (2.5 kB)\n",
            "Downloading nltk-3.9.1-py3-none-any.whl (1.5 MB)\n",
            "\u001b[2K   \u001b[90m━━━━━━━━━━━━━━━━━━━━━━━━━━━━━━━━━━━━━━━━\u001b[0m \u001b[32m1.5/1.5 MB\u001b[0m \u001b[31m37.0 MB/s\u001b[0m eta \u001b[36m0:00:00\u001b[0m\n",
            "\u001b[?25hDownloading Deprecated-1.2.14-py2.py3-none-any.whl (9.6 kB)\n",
            "Downloading dirtyjson-1.0.8-py3-none-any.whl (25 kB)\n",
            "Downloading llama_cloud-0.0.17-py3-none-any.whl (187 kB)\n",
            "\u001b[2K   \u001b[90m━━━━━━━━━━━━━━━━━━━━━━━━━━━━━━━━━━━━━━━━\u001b[0m \u001b[32m187.4/187.4 kB\u001b[0m \u001b[31m9.6 MB/s\u001b[0m eta \u001b[36m0:00:00\u001b[0m\n",
            "\u001b[?25hDownloading httpx-0.27.2-py3-none-any.whl (76 kB)\n",
            "\u001b[2K   \u001b[90m━━━━━━━━━━━━━━━━━━━━━━━━━━━━━━━━━━━━━━━━\u001b[0m \u001b[32m76.4/76.4 kB\u001b[0m \u001b[31m4.2 MB/s\u001b[0m eta \u001b[36m0:00:00\u001b[0m\n",
            "\u001b[?25hDownloading httpcore-1.0.5-py3-none-any.whl (77 kB)\n",
            "\u001b[2K   \u001b[90m━━━━━━━━━━━━━━━━━━━━━━━━━━━━━━━━━━━━━━━━\u001b[0m \u001b[32m77.9/77.9 kB\u001b[0m \u001b[31m4.3 MB/s\u001b[0m eta \u001b[36m0:00:00\u001b[0m\n",
            "\u001b[?25hDownloading llama_parse-0.5.6-py3-none-any.whl (10 kB)\n",
            "Downloading openai-1.47.0-py3-none-any.whl (375 kB)\n",
            "\u001b[2K   \u001b[90m━━━━━━━━━━━━━━━━━━━━━━━━━━━━━━━━━━━━━━━━\u001b[0m \u001b[32m375.6/375.6 kB\u001b[0m \u001b[31m13.7 MB/s\u001b[0m eta \u001b[36m0:00:00\u001b[0m\n",
            "\u001b[?25hDownloading pypdf-4.3.1-py3-none-any.whl (295 kB)\n",
            "\u001b[2K   \u001b[90m━━━━━━━━━━━━━━━━━━━━━━━━━━━━━━━━━━━━━━━━\u001b[0m \u001b[32m295.8/295.8 kB\u001b[0m \u001b[31m13.1 MB/s\u001b[0m eta \u001b[36m0:00:00\u001b[0m\n",
            "\u001b[?25hDownloading striprtf-0.0.26-py3-none-any.whl (6.9 kB)\n",
            "Downloading tenacity-8.5.0-py3-none-any.whl (28 kB)\n",
            "Downloading tiktoken-0.7.0-cp310-cp310-manylinux_2_17_x86_64.manylinux2014_x86_64.whl (1.1 MB)\n",
            "\u001b[2K   \u001b[90m━━━━━━━━━━━━━━━━━━━━━━━━━━━━━━━━━━━━━━━━\u001b[0m \u001b[32m1.1/1.1 MB\u001b[0m \u001b[31m24.0 MB/s\u001b[0m eta \u001b[36m0:00:00\u001b[0m\n",
            "\u001b[?25hDownloading typing_inspect-0.9.0-py3-none-any.whl (8.8 kB)\n",
            "Downloading dataclasses_json-0.6.7-py3-none-any.whl (28 kB)\n",
            "Downloading jiter-0.5.0-cp310-cp310-manylinux_2_17_x86_64.manylinux2014_x86_64.whl (318 kB)\n",
            "\u001b[2K   \u001b[90m━━━━━━━━━━━━━━━━━━━━━━━━━━━━━━━━━━━━━━━━\u001b[0m \u001b[32m318.9/318.9 kB\u001b[0m \u001b[31m16.4 MB/s\u001b[0m eta \u001b[36m0:00:00\u001b[0m\n",
            "\u001b[?25hDownloading marshmallow-3.22.0-py3-none-any.whl (49 kB)\n",
            "\u001b[2K   \u001b[90m━━━━━━━━━━━━━━━━━━━━━━━━━━━━━━━━━━━━━━━━\u001b[0m \u001b[32m49.3/49.3 kB\u001b[0m \u001b[31m3.0 MB/s\u001b[0m eta \u001b[36m0:00:00\u001b[0m\n",
            "\u001b[?25hDownloading mypy_extensions-1.0.0-py3-none-any.whl (4.7 kB)\n",
            "Downloading h11-0.14.0-py3-none-any.whl (58 kB)\n",
            "\u001b[2K   \u001b[90m━━━━━━━━━━━━━━━━━━━━━━━━━━━━━━━━━━━━━━━━\u001b[0m \u001b[32m58.3/58.3 kB\u001b[0m \u001b[31m3.6 MB/s\u001b[0m eta \u001b[36m0:00:00\u001b[0m\n",
            "\u001b[?25hInstalling collected packages: striprtf, dirtyjson, tenacity, pypdf, nltk, mypy-extensions, marshmallow, jiter, h11, deprecated, typing-inspect, tiktoken, httpcore, httpx, dataclasses-json, openai, llama-index-core, llama-cloud, llama-parse, llama-index-readers-file, llama-index-llms-openai, llama-index-legacy, llama-index-indices-managed-llama-cloud, llama-index-embeddings-openai, llama-index-readers-llama-parse, llama-index-multi-modal-llms-openai, llama-index-cli, llama-index-agent-openai, llama-index-program-openai, llama-index-question-gen-openai, llama-index\n",
            "  Attempting uninstall: tenacity\n",
            "    Found existing installation: tenacity 9.0.0\n",
            "    Uninstalling tenacity-9.0.0:\n",
            "      Successfully uninstalled tenacity-9.0.0\n",
            "  Attempting uninstall: nltk\n",
            "    Found existing installation: nltk 3.8.1\n",
            "    Uninstalling nltk-3.8.1:\n",
            "      Successfully uninstalled nltk-3.8.1\n",
            "Successfully installed dataclasses-json-0.6.7 deprecated-1.2.14 dirtyjson-1.0.8 h11-0.14.0 httpcore-1.0.5 httpx-0.27.2 jiter-0.5.0 llama-cloud-0.0.17 llama-index-0.11.10 llama-index-agent-openai-0.3.4 llama-index-cli-0.3.1 llama-index-core-0.11.10 llama-index-embeddings-openai-0.2.5 llama-index-indices-managed-llama-cloud-0.3.1 llama-index-legacy-0.9.48.post3 llama-index-llms-openai-0.2.9 llama-index-multi-modal-llms-openai-0.2.1 llama-index-program-openai-0.2.0 llama-index-question-gen-openai-0.2.0 llama-index-readers-file-0.2.2 llama-index-readers-llama-parse-0.3.0 llama-parse-0.5.6 marshmallow-3.22.0 mypy-extensions-1.0.0 nltk-3.9.1 openai-1.47.0 pypdf-4.3.1 striprtf-0.0.26 tenacity-8.5.0 tiktoken-0.7.0 typing-inspect-0.9.0\n",
            "Collecting newsapi-python\n",
            "  Downloading newsapi_python-0.2.7-py2.py3-none-any.whl.metadata (1.2 kB)\n",
            "Requirement already satisfied: requests<3.0.0 in /usr/local/lib/python3.10/dist-packages (from newsapi-python) (2.32.3)\n",
            "Requirement already satisfied: charset-normalizer<4,>=2 in /usr/local/lib/python3.10/dist-packages (from requests<3.0.0->newsapi-python) (3.3.2)\n",
            "Requirement already satisfied: idna<4,>=2.5 in /usr/local/lib/python3.10/dist-packages (from requests<3.0.0->newsapi-python) (3.10)\n",
            "Requirement already satisfied: urllib3<3,>=1.21.1 in /usr/local/lib/python3.10/dist-packages (from requests<3.0.0->newsapi-python) (2.0.7)\n",
            "Requirement already satisfied: certifi>=2017.4.17 in /usr/local/lib/python3.10/dist-packages (from requests<3.0.0->newsapi-python) (2024.8.30)\n",
            "Downloading newsapi_python-0.2.7-py2.py3-none-any.whl (7.9 kB)\n",
            "Installing collected packages: newsapi-python\n",
            "Successfully installed newsapi-python-0.2.7\n",
            "Requirement already satisfied: yfinance in /usr/local/lib/python3.10/dist-packages (0.2.43)\n",
            "Requirement already satisfied: pandas>=1.3.0 in /usr/local/lib/python3.10/dist-packages (from yfinance) (2.1.4)\n",
            "Requirement already satisfied: numpy>=1.16.5 in /usr/local/lib/python3.10/dist-packages (from yfinance) (1.26.4)\n",
            "Requirement already satisfied: requests>=2.31 in /usr/local/lib/python3.10/dist-packages (from yfinance) (2.32.3)\n",
            "Requirement already satisfied: multitasking>=0.0.7 in /usr/local/lib/python3.10/dist-packages (from yfinance) (0.0.11)\n",
            "Requirement already satisfied: lxml>=4.9.1 in /usr/local/lib/python3.10/dist-packages (from yfinance) (4.9.4)\n",
            "Requirement already satisfied: platformdirs>=2.0.0 in /usr/local/lib/python3.10/dist-packages (from yfinance) (4.3.4)\n",
            "Requirement already satisfied: pytz>=2022.5 in /usr/local/lib/python3.10/dist-packages (from yfinance) (2024.2)\n",
            "Requirement already satisfied: frozendict>=2.3.4 in /usr/local/lib/python3.10/dist-packages (from yfinance) (2.4.4)\n",
            "Requirement already satisfied: peewee>=3.16.2 in /usr/local/lib/python3.10/dist-packages (from yfinance) (3.17.6)\n",
            "Requirement already satisfied: beautifulsoup4>=4.11.1 in /usr/local/lib/python3.10/dist-packages (from yfinance) (4.12.3)\n",
            "Requirement already satisfied: html5lib>=1.1 in /usr/local/lib/python3.10/dist-packages (from yfinance) (1.1)\n",
            "Requirement already satisfied: soupsieve>1.2 in /usr/local/lib/python3.10/dist-packages (from beautifulsoup4>=4.11.1->yfinance) (2.6)\n",
            "Requirement already satisfied: six>=1.9 in /usr/local/lib/python3.10/dist-packages (from html5lib>=1.1->yfinance) (1.16.0)\n",
            "Requirement already satisfied: webencodings in /usr/local/lib/python3.10/dist-packages (from html5lib>=1.1->yfinance) (0.5.1)\n",
            "Requirement already satisfied: python-dateutil>=2.8.2 in /usr/local/lib/python3.10/dist-packages (from pandas>=1.3.0->yfinance) (2.8.2)\n",
            "Requirement already satisfied: tzdata>=2022.1 in /usr/local/lib/python3.10/dist-packages (from pandas>=1.3.0->yfinance) (2024.1)\n",
            "Requirement already satisfied: charset-normalizer<4,>=2 in /usr/local/lib/python3.10/dist-packages (from requests>=2.31->yfinance) (3.3.2)\n",
            "Requirement already satisfied: idna<4,>=2.5 in /usr/local/lib/python3.10/dist-packages (from requests>=2.31->yfinance) (3.10)\n",
            "Requirement already satisfied: urllib3<3,>=1.21.1 in /usr/local/lib/python3.10/dist-packages (from requests>=2.31->yfinance) (2.0.7)\n",
            "Requirement already satisfied: certifi>=2017.4.17 in /usr/local/lib/python3.10/dist-packages (from requests>=2.31->yfinance) (2024.8.30)\n"
          ]
        }
      ]
    },
    {
      "cell_type": "code",
      "source": [
        "from llama_index.core.agent import ReActAgent\n",
        "from llama_index.llms.openai import OpenAI\n",
        "from llama_index.core.llms import ChatMessage\n",
        "from llama_index.core.tools import BaseTool, FunctionTool"
      ],
      "metadata": {
        "execution": {
          "iopub.status.busy": "2024-09-07T10:19:12.187784Z",
          "iopub.execute_input": "2024-09-07T10:19:12.188372Z",
          "iopub.status.idle": "2024-09-07T10:19:17.36283Z",
          "shell.execute_reply.started": "2024-09-07T10:19:12.188318Z",
          "shell.execute_reply": "2024-09-07T10:19:17.36158Z"
        },
        "trusted": true,
        "id": "Gl4f986pybeD"
      },
      "execution_count": 2,
      "outputs": []
    },
    {
      "cell_type": "code",
      "source": [
        "import os\n",
        "import getpass"
      ],
      "metadata": {
        "id": "KOgWWeXJyykM"
      },
      "execution_count": 3,
      "outputs": []
    },
    {
      "cell_type": "code",
      "source": [
        "NEWS_API_KEY = getpass.getpass('Enter your news api key')"
      ],
      "metadata": {
        "id": "itSBCXI9y21o",
        "outputId": "0294534e-fc40-4a7c-8707-07ec7d1489d0",
        "colab": {
          "base_uri": "https://localhost:8080/"
        }
      },
      "execution_count": 4,
      "outputs": [
        {
          "name": "stdout",
          "output_type": "stream",
          "text": [
            "Enter your news api key··········\n"
          ]
        }
      ]
    },
    {
      "cell_type": "code",
      "source": [
        "OPENAI_API_KEY = getpass.getpass('Enter your openai api key')"
      ],
      "metadata": {
        "id": "9oRR2lery96f",
        "outputId": "58139d40-869d-411f-fd25-26403a75e26f",
        "colab": {
          "base_uri": "https://localhost:8080/"
        }
      },
      "execution_count": 5,
      "outputs": [
        {
          "name": "stdout",
          "output_type": "stream",
          "text": [
            "Enter your openai api key··········\n"
          ]
        }
      ]
    },
    {
      "cell_type": "code",
      "source": [
        "# NEWS_API_KEY = '<NEWS API KEY>'\n",
        "\n",
        "from newsapi import NewsApiClient\n",
        "newsapi = NewsApiClient(api_key=NEWS_API_KEY)\n",
        "\n",
        "openai_api_key = OPENAI_API_KEY\n",
        "llm = OpenAI(model=\"gpt-4o-mini\",api_key=openai_api_key)"
      ],
      "metadata": {
        "execution": {
          "iopub.status.busy": "2024-09-07T10:22:07.775887Z",
          "iopub.execute_input": "2024-09-07T10:22:07.777635Z",
          "iopub.status.idle": "2024-09-07T10:22:07.786965Z",
          "shell.execute_reply.started": "2024-09-07T10:22:07.777579Z",
          "shell.execute_reply": "2024-09-07T10:22:07.785639Z"
        },
        "trusted": true,
        "id": "bBS2-INYybeD"
      },
      "execution_count": 6,
      "outputs": []
    },
    {
      "cell_type": "code",
      "source": [
        "#Check the llm\n",
        "llm.complete(\"Hello\").text"
      ],
      "metadata": {
        "execution": {
          "iopub.status.busy": "2024-09-07T10:22:48.024409Z",
          "iopub.execute_input": "2024-09-07T10:22:48.024861Z",
          "iopub.status.idle": "2024-09-07T10:22:48.781443Z",
          "shell.execute_reply.started": "2024-09-07T10:22:48.024822Z",
          "shell.execute_reply": "2024-09-07T10:22:48.779845Z"
        },
        "trusted": true,
        "id": "ngJ6Zzd7ybeD",
        "outputId": "68223f55-3cb5-4f69-da57-041b6bdce280",
        "colab": {
          "base_uri": "https://localhost:8080/",
          "height": 35
        }
      },
      "execution_count": 7,
      "outputs": [
        {
          "output_type": "execute_result",
          "data": {
            "text/plain": [
              "'Hello! How can I assist you today?'"
            ],
            "application/vnd.google.colaboratory.intrinsic+json": {
              "type": "string"
            }
          },
          "metadata": {},
          "execution_count": 7
        }
      ]
    },
    {
      "cell_type": "code",
      "source": [
        "import yfinance as yf\n",
        "import matplotlib.pyplot as plt\n",
        "import seaborn as sns\n",
        "sns.set()\n",
        "from datetime import date\n",
        "import pandas as pd"
      ],
      "metadata": {
        "execution": {
          "iopub.status.busy": "2024-09-07T10:23:12.495771Z",
          "iopub.execute_input": "2024-09-07T10:23:12.496286Z",
          "iopub.status.idle": "2024-09-07T10:23:13.770619Z",
          "shell.execute_reply.started": "2024-09-07T10:23:12.49624Z",
          "shell.execute_reply": "2024-09-07T10:23:13.769323Z"
        },
        "trusted": true,
        "id": "9xWDRHl2ybeE"
      },
      "execution_count": 8,
      "outputs": []
    },
    {
      "cell_type": "markdown",
      "source": [
        "**Helper Functions**"
      ],
      "metadata": {
        "id": "heZY0NmqybeE"
      }
    },
    {
      "cell_type": "code",
      "source": [
        "from llama_index.core.tools.tool_spec.base import BaseToolSpec\n",
        "import yfinance as yf\n",
        "import pandas as pd\n",
        "\n",
        "class FinanceTools(BaseToolSpec):\n",
        "    \"\"\"Finance tools spec.\"\"\"\n",
        "    spec_functions = [\n",
        "        \"stock_prices\",\n",
        "        \"last_stock_price\",\n",
        "        \"search_news\",\n",
        "        \"summarize_news_news_api\",\n",
        "        \"plot_stock_price\"\n",
        "    ]\n",
        "\n",
        "    def __init__(self) -> None:\n",
        "        \"\"\"Initialize the Yahoo Finance tool spec.\"\"\"\n",
        "\n",
        "    def stock_prices(self, ticker: str) -> pd.DataFrame:\n",
        "        \"\"\"\n",
        "        Get the historical prices and volume for a ticker for the last␣ Args:\n",
        "        ticker (str): the stock ticker to be given to yfinance\n",
        "        \"\"\"\n",
        "        stock = yf.Ticker(ticker)\n",
        "        df = stock.history()\n",
        "        return df\n",
        "\n",
        "    def last_stock_price(self, ticker: str) -> pd.DataFrame:\n",
        "        \"\"\"\n",
        "        Get the last historical prices and volume for a ticker.\n",
        "        Args:\n",
        "        ticker (str): the stock ticker to be given to yfinance\n",
        "        \"\"\"\n",
        "        stock = yf.Ticker(ticker)\n",
        "        df = stock.history()\n",
        "        df_last = df.iloc[-1:]\n",
        "        return df_last\n",
        "\n",
        "    def search_news(self, ticker: str, num_articles:int =5,\n",
        "                    from_datetime = \"2024-04-10\",to_datetime = date.today()):\n",
        "        \"\"\"\n",
        "        Get the most recent news of a stock or an instrument\n",
        "        Args:\n",
        "            ticker (str): the stock ticker to be given to NEWSAPI\n",
        "               num_articles (int): Number of news article to collect\n",
        "        \"\"\"\n",
        "        all_articles = newsapi.get_everything(q=ticker,\n",
        "                                              from_param=from_datetime,\n",
        "                                              to=to_datetime,\n",
        "                                              language='en',\n",
        "                                              sort_by='relevancy',\n",
        "                                              page_size=num_articles)\n",
        "\n",
        "        news_concat = [f\"{article['title']}, {article['description']}, {article['content'][0:100]}\"  for article in all_articles['articles']]\n",
        "\n",
        "        return (\".\\n\").join(news_concat)\n",
        "\n",
        "    def summarize_news_news_api(self, ticker: str) -> str:\n",
        "        \"\"\"\n",
        "        Summarize the news of a given stock or an instrument\n",
        "        Args:\n",
        "        news (str): the news articles to be summarized for a given instruments.\n",
        "        \"\"\"\n",
        "        news = self.search_news(ticker)\n",
        "        prompt = f\"Summarize the following text by extractin the key insights: {news}\"\n",
        "        response = llm.complete(prompt).text\n",
        "        return response\n",
        "\n",
        "    def plot_stock_price(self, ticker: str,\n",
        "                         list_column:list = ['Close','Volume']) -> pd.DataFrame:\n",
        "        \"\"\"\n",
        "        For a given ticker symbol plot the different values given in list_column during the last month .\n",
        "        Args:\n",
        "            ticker (str): the stock ticker to be given to yfinance\n",
        "            list_column (list): the different columns to plot. It could be Close,␣\n",
        "            Open, High, Volume.\n",
        "        \"\"\"\n",
        "        df = self.stock_prices(ticker)\n",
        "        columns = [col.upper() for col in df.columns]\n",
        "        df.columns = columns\n",
        "        list_column = [col.upper() for col in list_column]\n",
        "        df[list_column].plot(title=f'{ticker} Historical Data')\n",
        "        plt.xlabel('Date')\n",
        "        plt.ylabel('Price')\n",
        "        plt.show()\n",
        "        return 'Plotted'"
      ],
      "metadata": {
        "execution": {
          "iopub.status.busy": "2024-09-07T10:32:49.720321Z",
          "iopub.execute_input": "2024-09-07T10:32:49.720832Z",
          "iopub.status.idle": "2024-09-07T10:32:49.74156Z",
          "shell.execute_reply.started": "2024-09-07T10:32:49.720788Z",
          "shell.execute_reply": "2024-09-07T10:32:49.740021Z"
        },
        "trusted": true,
        "id": "utpaIZK-ybeF"
      },
      "execution_count": 9,
      "outputs": []
    },
    {
      "cell_type": "markdown",
      "source": [
        "**Create ReACT Agent with Finance Tools**"
      ],
      "metadata": {
        "id": "YhLoEWsAybeF"
      }
    },
    {
      "cell_type": "code",
      "source": [
        "finance_tool = FinanceTools()\n",
        "finance_tool_list = finance_tool.to_tool_list()\n",
        "\n",
        "for tool in finance_tool_list:\n",
        "    print(tool.metadata.name)\n",
        "\n",
        "agent = ReActAgent.from_tools(finance_tool_list, llm=llm, verbose=True)"
      ],
      "metadata": {
        "execution": {
          "iopub.status.busy": "2024-09-07T10:33:55.24258Z",
          "iopub.execute_input": "2024-09-07T10:33:55.243142Z",
          "iopub.status.idle": "2024-09-07T10:33:55.912605Z",
          "shell.execute_reply.started": "2024-09-07T10:33:55.243084Z",
          "shell.execute_reply": "2024-09-07T10:33:55.91143Z"
        },
        "trusted": true,
        "id": "6RZC0XA3ybeG",
        "colab": {
          "base_uri": "https://localhost:8080/"
        },
        "outputId": "7c5d6116-9670-445a-f6cf-0da30e7d403b"
      },
      "execution_count": 10,
      "outputs": [
        {
          "output_type": "stream",
          "name": "stdout",
          "text": [
            "stock_prices\n",
            "last_stock_price\n",
            "search_news\n",
            "summarize_news_news_api\n",
            "plot_stock_price\n"
          ]
        }
      ]
    },
    {
      "cell_type": "markdown",
      "source": [
        "**Chat with the Agent**"
      ],
      "metadata": {
        "id": "WKGYzxwiybeG"
      }
    },
    {
      "cell_type": "code",
      "source": [
        "response = agent.chat(\"What is the last price of Nvidia?\")"
      ],
      "metadata": {
        "execution": {
          "iopub.status.busy": "2024-09-07T10:34:22.224589Z",
          "iopub.execute_input": "2024-09-07T10:34:22.225841Z",
          "iopub.status.idle": "2024-09-07T10:34:24.459361Z",
          "shell.execute_reply.started": "2024-09-07T10:34:22.225788Z",
          "shell.execute_reply": "2024-09-07T10:34:24.45782Z"
        },
        "trusted": true,
        "id": "giScG9e8ybeG",
        "colab": {
          "base_uri": "https://localhost:8080/"
        },
        "outputId": "9c7ce944-542c-4a58-e715-d83cf2b944d4"
      },
      "execution_count": 11,
      "outputs": [
        {
          "output_type": "stream",
          "name": "stdout",
          "text": [
            "> Running step 58820179-31ea-4468-8f16-38c86f45ac5f. Step input: What is the last price of Nvidia?\n",
            "\u001b[1;3;38;5;200mThought: The user is asking for the last price of Nvidia stock. I will use the last_stock_price tool to get this information.\n",
            "Action: last_stock_price\n",
            "Action Input: {'ticker': 'NVDA'}\n",
            "\u001b[0m\u001b[1;3;34mObservation:                                  Open        High         Low       Close  \\\n",
            "Date                                                                        \n",
            "2024-09-20 00:00:00-04:00  117.059998  118.618103  115.390099  116.419998   \n",
            "\n",
            "                              Volume  Dividends  Stock Splits  \n",
            "Date                                                           \n",
            "2024-09-20 00:00:00-04:00  139990116        0.0           0.0  \n",
            "\u001b[0m> Running step de15f0ea-0027-4482-9edf-8930b6bf1ace. Step input: None\n",
            "\u001b[1;3;38;5;200mThought: I can answer without using any more tools. I'll use the user's language to answer.\n",
            "Answer: The last price of Nvidia (NVDA) stock is $116.42, as of September 20, 2024.\n",
            "\u001b[0m"
          ]
        }
      ]
    },
    {
      "cell_type": "code",
      "source": [
        "response = agent.chat(\"What are the latest news about Apple?\")"
      ],
      "metadata": {
        "execution": {
          "iopub.status.busy": "2024-09-07T10:34:49.695197Z",
          "iopub.execute_input": "2024-09-07T10:34:49.696321Z",
          "iopub.status.idle": "2024-09-07T10:34:58.306083Z",
          "shell.execute_reply.started": "2024-09-07T10:34:49.69627Z",
          "shell.execute_reply": "2024-09-07T10:34:58.304875Z"
        },
        "trusted": true,
        "id": "i6SgFGRxybeG",
        "colab": {
          "base_uri": "https://localhost:8080/"
        },
        "outputId": "9f0c0b3c-0333-43a0-fc63-d1b8bdca5298"
      },
      "execution_count": 12,
      "outputs": [
        {
          "output_type": "stream",
          "name": "stdout",
          "text": [
            "> Running step 4ec63afa-00fa-40af-9374-c501e7548abf. Step input: What are the latest news about Apple?\n",
            "\u001b[1;3;38;5;200mThought: The current language of the user is: English. I need to use a tool to help me answer the question.\n",
            "Action: search_news\n",
            "Action Input: {'ticker': 'AAPL', 'num_articles': 5}\n",
            "\u001b[0m\u001b[1;3;34mObservation: Error: {'status': 'error', 'code': 'parameterInvalid', 'message': 'You are trying to request results too far in the past. Your plan permits you to request articles as far back as 2024-08-19, but you have requested 2024-04-10. You may need to upgrade to a paid plan.'}\n",
            "\u001b[0m> Running step ebedf29a-a948-472e-9c05-6c9c495aa834. Step input: None\n",
            "\u001b[1;3;38;5;200mThought: The date range for retrieving news articles is invalid. I will adjust the date range to retrieve news articles from August 19, 2024, to the current date.\n",
            "Action: search_news\n",
            "Action Input: {'ticker': 'AAPL', 'num_articles': 5, 'from_datetime': '2024-08-19', 'to_datetime': '2024-09-20'}\n",
            "\u001b[0m\u001b[1;3;34mObservation: Error: {'status': 'error', 'code': 'parameterInvalid', 'message': 'You are trying to request results too far in the past. Your plan permits you to request articles as far back as 2024-08-19, but you have requested 2024-08-19. You may need to upgrade to a paid plan.'}\n",
            "\u001b[0m> Running step c71db879-5622-4eea-b286-a9d136cf1a28. Step input: None\n",
            "\u001b[1;3;38;5;200mThought: It seems that I cannot retrieve news articles for the specified date range due to limitations. I will attempt to retrieve the latest news articles without specifying a date range.\n",
            "Action: search_news\n",
            "Action Input: {'ticker': 'AAPL', 'num_articles': 5}\n",
            "\u001b[0m\u001b[1;3;34mObservation: Error: {'status': 'error', 'code': 'parameterInvalid', 'message': 'You are trying to request results too far in the past. Your plan permits you to request articles as far back as 2024-08-19, but you have requested 2024-04-10. You may need to upgrade to a paid plan.'}\n",
            "\u001b[0m> Running step 51e27366-342f-44cf-bbf3-9cf2558ed428. Step input: None\n",
            "\u001b[1;3;38;5;200mThought: I cannot retrieve the latest news articles for Apple due to restrictions on the date range. I will summarize the news articles for Apple if available.\n",
            "Action: summarize_news_news_api\n",
            "Action Input: {'ticker': 'AAPL'}\n",
            "\u001b[0m\u001b[1;3;34mObservation: Error: {'status': 'error', 'code': 'parameterInvalid', 'message': 'You are trying to request results too far in the past. Your plan permits you to request articles as far back as 2024-08-19, but you have requested 2024-04-10. You may need to upgrade to a paid plan.'}\n",
            "\u001b[0m> Running step 85b54aa3-0310-4d08-8293-70d8a3549a5b. Step input: None\n",
            "\u001b[1;3;38;5;200mThought: I cannot retrieve or summarize news articles for Apple due to the limitations on the date range. Therefore, I cannot provide the latest news about Apple at this time.\n",
            "Answer: I am unable to access the latest news about Apple due to restrictions on the date range for news articles.\n",
            "\u001b[0m"
          ]
        }
      ]
    },
    {
      "cell_type": "code",
      "source": [
        "response = agent.chat(\"Give me a summary about the latest news about OpenAI?\")"
      ],
      "metadata": {
        "execution": {
          "iopub.status.busy": "2024-09-07T10:36:50.25837Z",
          "iopub.execute_input": "2024-09-07T10:36:50.25895Z",
          "iopub.status.idle": "2024-09-07T10:36:57.789993Z",
          "shell.execute_reply.started": "2024-09-07T10:36:50.258902Z",
          "shell.execute_reply": "2024-09-07T10:36:57.788231Z"
        },
        "trusted": true,
        "id": "p-YxEXYCybeG",
        "colab": {
          "base_uri": "https://localhost:8080/"
        },
        "outputId": "a4761681-f1fe-45c1-a1a7-90f3d340a11c"
      },
      "execution_count": 13,
      "outputs": [
        {
          "output_type": "stream",
          "name": "stdout",
          "text": [
            "> Running step 0b1a0786-d577-446a-98b1-149ec484a078. Step input: Give me a summary about the latest news about OpenAI?\n",
            "\u001b[1;3;38;5;200mThought: The current language of the user is: English. I need to use a tool to help me answer the question.\n",
            "Action: search_news\n",
            "Action Input: {'ticker': 'OpenAI', 'num_articles': 5}\n",
            "\u001b[0m\u001b[1;3;34mObservation: Error: {'status': 'error', 'code': 'parameterInvalid', 'message': 'You are trying to request results too far in the past. Your plan permits you to request articles as far back as 2024-08-19, but you have requested 2024-04-10. You may need to upgrade to a paid plan.'}\n",
            "\u001b[0m> Running step 66f65c96-0910-4d27-9e43-ddc949c010c6. Step input: None\n",
            "\u001b[1;3;38;5;200mThought: I cannot access news articles for OpenAI due to restrictions on the date range for news articles.\n",
            "Answer: I am unable to provide a summary of the latest news about OpenAI at this time.\n",
            "\u001b[0m"
          ]
        }
      ]
    },
    {
      "cell_type": "code",
      "source": [
        "response = agent.chat(\"Give me the last month historical data of BTCUSD?\")"
      ],
      "metadata": {
        "execution": {
          "iopub.status.busy": "2024-09-07T10:37:30.270426Z",
          "iopub.execute_input": "2024-09-07T10:37:30.270916Z",
          "iopub.status.idle": "2024-09-07T10:37:51.008478Z",
          "shell.execute_reply.started": "2024-09-07T10:37:30.270871Z",
          "shell.execute_reply": "2024-09-07T10:37:51.00721Z"
        },
        "trusted": true,
        "id": "RgwxLUiQybeG",
        "colab": {
          "base_uri": "https://localhost:8080/"
        },
        "outputId": "d166e077-186b-48c6-bf1e-05b02f6866ef"
      },
      "execution_count": 14,
      "outputs": [
        {
          "output_type": "stream",
          "name": "stdout",
          "text": [
            "> Running step ab1c9a68-d853-42f4-a25c-1d7f4e749c82. Step input: Give me the last month historical data of BTCUSD?\n",
            "\u001b[1;3;38;5;200mThought: The user is asking for the historical data of the BTCUSD pair for the last month. I will use the stock_prices tool to retrieve this data.\n",
            "Action: stock_prices\n",
            "Action Input: {'ticker': 'BTC-USD'}\n",
            "\u001b[0m\u001b[1;3;34mObservation:                                    Open          High           Low  \\\n",
            "Date                                                                  \n",
            "2024-08-20 00:00:00+00:00  59493.453125  61396.328125  58610.882812   \n",
            "2024-08-21 00:00:00+00:00  59014.988281  61834.351562  58823.445312   \n",
            "2024-08-22 00:00:00+00:00  61168.316406  61408.109375  59815.253906   \n",
            "2024-08-23 00:00:00+00:00  60380.953125  64947.062500  60372.050781   \n",
            "2024-08-24 00:00:00+00:00  64103.871094  64513.789062  63619.917969   \n",
            "2024-08-25 00:00:00+00:00  64176.367188  64996.421875  63833.519531   \n",
            "2024-08-26 00:00:00+00:00  64342.226562  64489.707031  62849.558594   \n",
            "2024-08-27 00:00:00+00:00  62879.707031  63210.796875  58116.750000   \n",
            "2024-08-28 00:00:00+00:00  59507.925781  60236.449219  57890.675781   \n",
            "2024-08-29 00:00:00+00:00  59027.468750  61184.082031  58786.226562   \n",
            "2024-08-30 00:00:00+00:00  59388.601562  59896.886719  57768.531250   \n",
            "2024-08-31 00:00:00+00:00  59117.480469  59432.593750  58768.785156   \n",
            "2024-09-01 00:00:00+00:00  58969.800781  59062.070312  57217.824219   \n",
            "2024-09-02 00:00:00+00:00  57326.968750  59403.070312  57136.027344   \n",
            "2024-09-03 00:00:00+00:00  59106.191406  59815.058594  57425.167969   \n",
            "2024-09-04 00:00:00+00:00  57430.347656  58511.570312  55673.164062   \n",
            "2024-09-05 00:00:00+00:00  57971.703125  58300.582031  55712.453125   \n",
            "2024-09-06 00:00:00+00:00  56160.191406  56976.109375  52598.699219   \n",
            "2024-09-07 00:00:00+00:00  53949.085938  54838.144531  53740.070312   \n",
            "2024-09-08 00:00:00+00:00  54147.933594  55300.859375  53653.757812   \n",
            "2024-09-09 00:00:00+00:00  54851.886719  58041.125000  54598.433594   \n",
            "2024-09-10 00:00:00+00:00  57020.097656  58029.976562  56419.414062   \n",
            "2024-09-11 00:00:00+00:00  57650.289062  57991.320312  55567.339844   \n",
            "2024-09-12 00:00:00+00:00  57343.171875  58534.359375  57330.101562   \n",
            "2024-09-13 00:00:00+00:00  58130.324219  60648.023438  57650.113281   \n",
            "2024-09-14 00:00:00+00:00  60569.117188  60656.722656  59517.882812   \n",
            "2024-09-15 00:00:00+00:00  60000.726562  60381.917969  58696.308594   \n",
            "2024-09-16 00:00:00+00:00  59185.226562  59205.511719  57501.339844   \n",
            "2024-09-17 00:00:00+00:00  58192.507812  61316.089844  57628.070312   \n",
            "2024-09-18 00:00:00+00:00  60309.000000  61664.066406  59218.253906   \n",
            "2024-09-19 00:00:00+00:00  61651.156250  63872.441406  61609.867188   \n",
            "2024-09-20 00:00:00+00:00  62958.390625  64059.882812  62617.531250   \n",
            "\n",
            "                                  Close       Volume  Dividends  Stock Splits  \n",
            "Date                                                                           \n",
            "2024-08-20 00:00:00+00:00  59012.792969  31613400008        0.0           0.0  \n",
            "2024-08-21 00:00:00+00:00  61175.191406  32731154072        0.0           0.0  \n",
            "2024-08-22 00:00:00+00:00  60381.914062  27625734377        0.0           0.0  \n",
            "2024-08-23 00:00:00+00:00  64094.355469  42530509233        0.0           0.0  \n",
            "2024-08-24 00:00:00+00:00  64178.992188  21430585163        0.0           0.0  \n",
            "2024-08-25 00:00:00+00:00  64333.542969  18827683555        0.0           0.0  \n",
            "2024-08-26 00:00:00+00:00  62880.660156  27682040631        0.0           0.0  \n",
            "2024-08-27 00:00:00+00:00  59504.132812  39103882198        0.0           0.0  \n",
            "2024-08-28 00:00:00+00:00  59027.625000  40289564698        0.0           0.0  \n",
            "2024-08-29 00:00:00+00:00  59388.179688  32224990582        0.0           0.0  \n",
            "2024-08-30 00:00:00+00:00  59119.476562  32292756405        0.0           0.0  \n",
            "2024-08-31 00:00:00+00:00  58969.898438  12403470760        0.0           0.0  \n",
            "2024-09-01 00:00:00+00:00  57325.488281  24592449997        0.0           0.0  \n",
            "2024-09-02 00:00:00+00:00  59112.480469  27036454524        0.0           0.0  \n",
            "2024-09-03 00:00:00+00:00  57431.023438  26666961053        0.0           0.0  \n",
            "2024-09-04 00:00:00+00:00  57971.539062  35627680312        0.0           0.0  \n",
            "2024-09-05 00:00:00+00:00  56160.488281  31030280656        0.0           0.0  \n",
            "2024-09-06 00:00:00+00:00  53948.753906  49361693566        0.0           0.0  \n",
            "2024-09-07 00:00:00+00:00  54139.687500  19061486526        0.0           0.0  \n",
            "2024-09-08 00:00:00+00:00  54841.566406  18268287531        0.0           0.0  \n",
            "2024-09-09 00:00:00+00:00  57019.535156  34618096173        0.0           0.0  \n",
            "2024-09-10 00:00:00+00:00  57648.710938  28857630507        0.0           0.0  \n",
            "2024-09-11 00:00:00+00:00  57343.171875  37049062672        0.0           0.0  \n",
            "2024-09-12 00:00:00+00:00  58127.011719  33835707949        0.0           0.0  \n",
            "2024-09-13 00:00:00+00:00  60571.300781  32490528356        0.0           0.0  \n",
            "2024-09-14 00:00:00+00:00  60005.121094  16428405496        0.0           0.0  \n",
            "2024-09-15 00:00:00+00:00  59182.835938  18120960867        0.0           0.0  \n",
            "2024-09-16 00:00:00+00:00  58192.507812  32032822113        0.0           0.0  \n",
            "2024-09-17 00:00:00+00:00  60308.539062  38075570118        0.0           0.0  \n",
            "2024-09-18 00:00:00+00:00  61649.679688  40990702891        0.0           0.0  \n",
            "2024-09-19 00:00:00+00:00  62940.457031  42710252573        0.0           0.0  \n",
            "2024-09-20 00:00:00+00:00  63144.519531  39260139520        0.0           0.0  \n",
            "\u001b[0m> Running step eaa816af-531a-46a0-8dce-68429d072a0e. Step input: None\n",
            "\u001b[1;3;38;5;200mThought: I have retrieved the historical data for BTCUSD for the last month. I can now summarize this information for you.\n",
            "Answer: Here is the historical data for BTCUSD for the last month:\n",
            "\n",
            "| Date       | Open        | High        | Low         | Close       | Volume         |\n",
            "|------------|-------------|-------------|-------------|-------------|----------------|\n",
            "| 2024-08-20 | 59493.45    | 61396.33    | 58610.88    | 59012.79    | 31613400008    |\n",
            "| 2024-08-21 | 59014.99    | 61834.35    | 58823.45    | 61175.19    | 32731154072    |\n",
            "| 2024-08-22 | 61168.32    | 61408.11    | 59815.25    | 60381.91    | 27625734377    |\n",
            "| 2024-08-23 | 60380.95    | 64947.06    | 60372.05    | 64094.36    | 42530509233    |\n",
            "| 2024-08-24 | 64103.87    | 64513.79    | 63619.92    | 64178.99    | 21430585163    |\n",
            "| 2024-08-25 | 64176.37    | 64996.42    | 63833.52    | 64333.54    | 18827683555    |\n",
            "| 2024-08-26 | 64342.23    | 64489.71    | 62849.56    | 62880.66    | 27682040631    |\n",
            "| 2024-08-27 | 62879.71    | 63210.80    | 58116.75    | 59504.13    | 39103882198    |\n",
            "| 2024-08-28 | 59507.93    | 60236.45    | 57890.68    | 59027.63    | 40289564698    |\n",
            "| 2024-08-29 | 59027.47    | 61184.08    | 58786.23    | 59388.18    | 32224990582    |\n",
            "| 2024-08-30 | 59388.60    | 59896.89    | 57768.53    | 59119.48    | 32292756405    |\n",
            "| 2024-08-31 | 59117.48    | 59432.59    | 58768.79    | 58969.90    | 12403470760    |\n",
            "| 2024-09-01 | 58969.80    | 59062.07    | 57217.82    | 57325.49    | 24592449997    |\n",
            "| 2024-09-02 | 57326.97    | 59403.07    | 57136.03    | 59112.48    | 27036454524    |\n",
            "| 2024-09-03 | 59106.19    | 59815.06    | 57425.17    | 57431.02    | 26666961053    |\n",
            "| 2024-09-04 | 57430.35    | 58511.57    | 55673.16    | 57971.54    | 35627680312    |\n",
            "| 2024-09-05 | 57971.70    | 58300.58    | 55712.45    | 56160.49    | 31030280656    |\n",
            "| 2024-09-06 | 56160.19    | 56976.11    | 52598.70    | 53948.75    | 49361693566    |\n",
            "| 2024-09-07 | 53949.09    | 54838.14    | 53740.07    | 54139.69    | 19061486526    |\n",
            "| 2024-09-08 | 54147.93    | 55300.86    | 53653.76    | 54841.57    | 18268287531    |\n",
            "| 2024-09-09 | 54851.89    | 58041.13    | 54598.43    | 57019.54    | 34618096173    |\n",
            "| 2024-09-10 | 57020.10    | 58029.98    | 56419.41    | 57648.71    | 28857630507    |\n",
            "| 2024-09-11 | 57650.29    | 57991.32    | 55567.34    | 57343.17    | 37049062672    |\n",
            "| 2024-09-12 | 57343.17    | 58534.36    | 57330.10    | 58127.01    | 33835707949    |\n",
            "| 2024-09-13 | 58130.32    | 60648.02    | 57650.11    | 60571.30    | 32490528356    |\n",
            "| 2024-09-14 | 60569.12    | 60656.72    | 59517.88    | 60005.12    | 16428405496    |\n",
            "| 2024-09-15 | 60000.73    | 60381.92    | 58696.31    | 59182.84    | 18120960867    |\n",
            "| 2024-09-16 | 59185.23    | 59205.51    | 57501.34    | 58192.51    | 32032822113    |\n",
            "| 2024-09-17 | 58192.51    | 61316.09    | 57628.07    | 60308.54    | 38075570118    |\n",
            "| 2024-09-18 | 60309.00    | 61664.07    | 59218.25    | 61649.68    | 40990702891    |\n",
            "| 2024-09-19 | 61651.16    | 63872.44    | 61609.87    | 62940.46    | 42710252573    |\n",
            "| 2024-09-20 | 62958.39    | 64059.88    | 62617.53    | 63144.52    | 39260139520    |\n",
            "\n",
            "This data includes the opening, high, low, and closing prices along with the trading volume for each day.\n",
            "\u001b[0m"
          ]
        }
      ]
    },
    {
      "cell_type": "code",
      "source": [
        "print(response)"
      ],
      "metadata": {
        "execution": {
          "iopub.status.busy": "2024-09-07T10:38:05.777411Z",
          "iopub.execute_input": "2024-09-07T10:38:05.778087Z",
          "iopub.status.idle": "2024-09-07T10:38:05.786988Z",
          "shell.execute_reply.started": "2024-09-07T10:38:05.778017Z",
          "shell.execute_reply": "2024-09-07T10:38:05.785392Z"
        },
        "trusted": true,
        "id": "Q2M0BYl3ybeG",
        "colab": {
          "base_uri": "https://localhost:8080/"
        },
        "outputId": "892a9015-8506-4462-f5fd-d5f50f86dea2"
      },
      "execution_count": 15,
      "outputs": [
        {
          "output_type": "stream",
          "name": "stdout",
          "text": [
            "Here is the historical data for BTCUSD for the last month:\n",
            "\n",
            "| Date       | Open        | High        | Low         | Close       | Volume         |\n",
            "|------------|-------------|-------------|-------------|-------------|----------------|\n",
            "| 2024-08-20 | 59493.45    | 61396.33    | 58610.88    | 59012.79    | 31613400008    |\n",
            "| 2024-08-21 | 59014.99    | 61834.35    | 58823.45    | 61175.19    | 32731154072    |\n",
            "| 2024-08-22 | 61168.32    | 61408.11    | 59815.25    | 60381.91    | 27625734377    |\n",
            "| 2024-08-23 | 60380.95    | 64947.06    | 60372.05    | 64094.36    | 42530509233    |\n",
            "| 2024-08-24 | 64103.87    | 64513.79    | 63619.92    | 64178.99    | 21430585163    |\n",
            "| 2024-08-25 | 64176.37    | 64996.42    | 63833.52    | 64333.54    | 18827683555    |\n",
            "| 2024-08-26 | 64342.23    | 64489.71    | 62849.56    | 62880.66    | 27682040631    |\n",
            "| 2024-08-27 | 62879.71    | 63210.80    | 58116.75    | 59504.13    | 39103882198    |\n",
            "| 2024-08-28 | 59507.93    | 60236.45    | 57890.68    | 59027.63    | 40289564698    |\n",
            "| 2024-08-29 | 59027.47    | 61184.08    | 58786.23    | 59388.18    | 32224990582    |\n",
            "| 2024-08-30 | 59388.60    | 59896.89    | 57768.53    | 59119.48    | 32292756405    |\n",
            "| 2024-08-31 | 59117.48    | 59432.59    | 58768.79    | 58969.90    | 12403470760    |\n",
            "| 2024-09-01 | 58969.80    | 59062.07    | 57217.82    | 57325.49    | 24592449997    |\n",
            "| 2024-09-02 | 57326.97    | 59403.07    | 57136.03    | 59112.48    | 27036454524    |\n",
            "| 2024-09-03 | 59106.19    | 59815.06    | 57425.17    | 57431.02    | 26666961053    |\n",
            "| 2024-09-04 | 57430.35    | 58511.57    | 55673.16    | 57971.54    | 35627680312    |\n",
            "| 2024-09-05 | 57971.70    | 58300.58    | 55712.45    | 56160.49    | 31030280656    |\n",
            "| 2024-09-06 | 56160.19    | 56976.11    | 52598.70    | 53948.75    | 49361693566    |\n",
            "| 2024-09-07 | 53949.09    | 54838.14    | 53740.07    | 54139.69    | 19061486526    |\n",
            "| 2024-09-08 | 54147.93    | 55300.86    | 53653.76    | 54841.57    | 18268287531    |\n",
            "| 2024-09-09 | 54851.89    | 58041.13    | 54598.43    | 57019.54    | 34618096173    |\n",
            "| 2024-09-10 | 57020.10    | 58029.98    | 56419.41    | 57648.71    | 28857630507    |\n",
            "| 2024-09-11 | 57650.29    | 57991.32    | 55567.34    | 57343.17    | 37049062672    |\n",
            "| 2024-09-12 | 57343.17    | 58534.36    | 57330.10    | 58127.01    | 33835707949    |\n",
            "| 2024-09-13 | 58130.32    | 60648.02    | 57650.11    | 60571.30    | 32490528356    |\n",
            "| 2024-09-14 | 60569.12    | 60656.72    | 59517.88    | 60005.12    | 16428405496    |\n",
            "| 2024-09-15 | 60000.73    | 60381.92    | 58696.31    | 59182.84    | 18120960867    |\n",
            "| 2024-09-16 | 59185.23    | 59205.51    | 57501.34    | 58192.51    | 32032822113    |\n",
            "| 2024-09-17 | 58192.51    | 61316.09    | 57628.07    | 60308.54    | 38075570118    |\n",
            "| 2024-09-18 | 60309.00    | 61664.07    | 59218.25    | 61649.68    | 40990702891    |\n",
            "| 2024-09-19 | 61651.16    | 63872.44    | 61609.87    | 62940.46    | 42710252573    |\n",
            "| 2024-09-20 | 62958.39    | 64059.88    | 62617.53    | 63144.52    | 39260139520    |\n",
            "\n",
            "This data includes the opening, high, low, and closing prices along with the trading volume for each day.\n"
          ]
        }
      ]
    },
    {
      "cell_type": "code",
      "source": [
        "response = agent.chat(\"Plot the close prices of Nvidia?\")"
      ],
      "metadata": {
        "execution": {
          "iopub.status.busy": "2024-09-07T10:39:29.850485Z",
          "iopub.execute_input": "2024-09-07T10:39:29.850998Z",
          "iopub.status.idle": "2024-09-07T10:39:34.161833Z",
          "shell.execute_reply.started": "2024-09-07T10:39:29.850954Z",
          "shell.execute_reply": "2024-09-07T10:39:34.160674Z"
        },
        "trusted": true,
        "id": "VF195rpcybeH",
        "colab": {
          "base_uri": "https://localhost:8080/"
        },
        "outputId": "91db7c71-68c0-422d-e31a-f3d56c9f8f0b"
      },
      "execution_count": 16,
      "outputs": [
        {
          "output_type": "stream",
          "name": "stdout",
          "text": [
            "> Running step 77096b7c-64ef-4a86-bc6a-cad0896a13d8. Step input: Plot the close prices of Nvidia?\n",
            "\u001b[1;3;38;5;200mThought: (Implicit) I can answer without any more tools!\n",
            "Answer: I will retrieve the historical prices for Nvidia to plot the closing prices.\n",
            "\u001b[0m"
          ]
        }
      ]
    },
    {
      "cell_type": "markdown",
      "source": [
        "**LLamaIndex Template under the hood**"
      ],
      "metadata": {
        "id": "OXg7e5diybeH"
      }
    },
    {
      "cell_type": "code",
      "source": [
        "prompt_dict = agent.get_prompts()\n",
        "for k, v in prompt_dict.items():\n",
        "    print(f\"Prompt: {k}\\n\\nValue: {v.template}\")"
      ],
      "metadata": {
        "execution": {
          "iopub.status.busy": "2024-09-07T10:44:01.793855Z",
          "iopub.execute_input": "2024-09-07T10:44:01.794442Z",
          "iopub.status.idle": "2024-09-07T10:44:01.803237Z",
          "shell.execute_reply.started": "2024-09-07T10:44:01.794347Z",
          "shell.execute_reply": "2024-09-07T10:44:01.801886Z"
        },
        "trusted": true,
        "id": "UmLnYLOnybeH",
        "colab": {
          "base_uri": "https://localhost:8080/"
        },
        "outputId": "3ef14dfc-bb34-4757-cd52-1b52419ed32f"
      },
      "execution_count": 17,
      "outputs": [
        {
          "output_type": "stream",
          "name": "stdout",
          "text": [
            "Prompt: agent_worker:system_prompt\n",
            "\n",
            "Value: You are designed to help with a variety of tasks, from answering questions to providing summaries to other types of analyses.\n",
            "\n",
            "## Tools\n",
            "\n",
            "You have access to a wide variety of tools. You are responsible for using the tools in any sequence you deem appropriate to complete the task at hand.\n",
            "This may require breaking the task into subtasks and using different tools to complete each subtask.\n",
            "\n",
            "You have access to the following tools:\n",
            "{tool_desc}\n",
            "\n",
            "\n",
            "## Output Format\n",
            "\n",
            "Please answer in the same language as the question and use the following format:\n",
            "\n",
            "```\n",
            "Thought: The current language of the user is: (user's language). I need to use a tool to help me answer the question.\n",
            "Action: tool name (one of {tool_names}) if using a tool.\n",
            "Action Input: the input to the tool, in a JSON format representing the kwargs (e.g. {{\"input\": \"hello world\", \"num_beams\": 5}})\n",
            "```\n",
            "\n",
            "Please ALWAYS start with a Thought.\n",
            "\n",
            "NEVER surround your response with markdown code markers. You may use code markers within your response if you need to.\n",
            "\n",
            "Please use a valid JSON format for the Action Input. Do NOT do this {{'input': 'hello world', 'num_beams': 5}}.\n",
            "\n",
            "If this format is used, the user will respond in the following format:\n",
            "\n",
            "```\n",
            "Observation: tool response\n",
            "```\n",
            "\n",
            "You should keep repeating the above format till you have enough information to answer the question without using any more tools. At that point, you MUST respond in the one of the following two formats:\n",
            "\n",
            "```\n",
            "Thought: I can answer without using any more tools. I'll use the user's language to answer\n",
            "Answer: [your answer here (In the same language as the user's question)]\n",
            "```\n",
            "\n",
            "```\n",
            "Thought: I cannot answer the question with the provided tools.\n",
            "Answer: [your answer here (In the same language as the user's question)]\n",
            "```\n",
            "\n",
            "## Current Conversation\n",
            "\n",
            "Below is the current conversation consisting of interleaving human and assistant messages.\n",
            "\n"
          ]
        }
      ]
    },
    {
      "cell_type": "code",
      "source": [
        "!pip install openai gradio\n",
        "\n",
        "import openai\n",
        "import gradio as gr\n",
        "\n",
        "# Set up OpenAI API key\n",
        "openai.api_key = OPENAI_API_KEY\n",
        "\n",
        "# Function to call OpenAI API\n",
        "def get_response_from_openai(prompt, conversation_history):\n",
        "    response = openai.ChatCompletion.create(\n",
        "        model=\"gpt-4\",\n",
        "        messages=conversation_history,\n",
        "        max_tokens=150,\n",
        "        temperature=0.7,\n",
        "    )\n",
        "    return response['choices'][0]['message']['content']\n",
        "\n",
        "# Initialize conversation history with system persona\n",
        "conversation_history = [{\"role\": \"system\", \"content\": \"You are a financial expert with deep knowledge in personal finance, investment strategies, and financial markets.\"}]\n",
        "\n",
        "# Add In-Context Learning (ICL) examples\n",
        "conversation_history.extend([\n",
        "    {\"role\": \"user\", \"content\": \"How should I invest my $10,000?\"},\n",
        "    {\"role\": \"assistant\", \"content\": \"The best way to invest $10,000 depends on your financial goals...\"},\n",
        "    {\"role\": \"user\", \"content\": \"Should I buy Tesla stock right now?\"},\n",
        "    {\"role\": \"assistant\", \"content\": \"Before buying Tesla stock...\"},\n",
        "])\n",
        "\n",
        "# Function to ask financial questions and get a response with Chain of Thought\n",
        "def ask_financial_question(question):\n",
        "    conversation_history.append({\"role\": \"user\", \"content\": question})\n",
        "    response = get_response_from_openai(\"Provide a step-by-step financial reasoning.\", conversation_history)\n",
        "    conversation_history.append({\"role\": \"assistant\", \"content\": response})\n",
        "    return response\n",
        "\n",
        "# Create Gradio interface\n",
        "interface = gr.Interface(fn=ask_financial_question, inputs=\"text\", outputs=\"text\", title=\"Financial Chatbot\", description=\"Ask any financial questions.\")\n",
        "interface.launch()\n"
      ],
      "metadata": {
        "id": "US9fUvk7ybeH",
        "colab": {
          "base_uri": "https://localhost:8080/",
          "height": 1000
        },
        "outputId": "2f53f00d-a463-4f4d-cf3a-4b7fbb034faf"
      },
      "execution_count": 21,
      "outputs": [
        {
          "output_type": "stream",
          "name": "stdout",
          "text": [
            "Requirement already satisfied: openai in /usr/local/lib/python3.10/dist-packages (1.47.0)\n",
            "Requirement already satisfied: gradio in /usr/local/lib/python3.10/dist-packages (4.44.0)\n",
            "Requirement already satisfied: anyio<5,>=3.5.0 in /usr/local/lib/python3.10/dist-packages (from openai) (3.7.1)\n",
            "Requirement already satisfied: distro<2,>=1.7.0 in /usr/lib/python3/dist-packages (from openai) (1.7.0)\n",
            "Requirement already satisfied: httpx<1,>=0.23.0 in /usr/local/lib/python3.10/dist-packages (from openai) (0.27.2)\n",
            "Requirement already satisfied: jiter<1,>=0.4.0 in /usr/local/lib/python3.10/dist-packages (from openai) (0.5.0)\n",
            "Requirement already satisfied: pydantic<3,>=1.9.0 in /usr/local/lib/python3.10/dist-packages (from openai) (2.9.2)\n",
            "Requirement already satisfied: sniffio in /usr/local/lib/python3.10/dist-packages (from openai) (1.3.1)\n",
            "Requirement already satisfied: tqdm>4 in /usr/local/lib/python3.10/dist-packages (from openai) (4.66.5)\n",
            "Requirement already satisfied: typing-extensions<5,>=4.11 in /usr/local/lib/python3.10/dist-packages (from openai) (4.12.2)\n",
            "Requirement already satisfied: aiofiles<24.0,>=22.0 in /usr/local/lib/python3.10/dist-packages (from gradio) (23.2.1)\n",
            "Requirement already satisfied: fastapi<1.0 in /usr/local/lib/python3.10/dist-packages (from gradio) (0.115.0)\n",
            "Requirement already satisfied: ffmpy in /usr/local/lib/python3.10/dist-packages (from gradio) (0.4.0)\n",
            "Requirement already satisfied: gradio-client==1.3.0 in /usr/local/lib/python3.10/dist-packages (from gradio) (1.3.0)\n",
            "Requirement already satisfied: huggingface-hub>=0.19.3 in /usr/local/lib/python3.10/dist-packages (from gradio) (0.24.7)\n",
            "Requirement already satisfied: importlib-resources<7.0,>=1.3 in /usr/local/lib/python3.10/dist-packages (from gradio) (6.4.5)\n",
            "Requirement already satisfied: jinja2<4.0 in /usr/local/lib/python3.10/dist-packages (from gradio) (3.1.4)\n",
            "Requirement already satisfied: markupsafe~=2.0 in /usr/local/lib/python3.10/dist-packages (from gradio) (2.1.5)\n",
            "Requirement already satisfied: matplotlib~=3.0 in /usr/local/lib/python3.10/dist-packages (from gradio) (3.7.1)\n",
            "Requirement already satisfied: numpy<3.0,>=1.0 in /usr/local/lib/python3.10/dist-packages (from gradio) (1.26.4)\n",
            "Requirement already satisfied: orjson~=3.0 in /usr/local/lib/python3.10/dist-packages (from gradio) (3.10.7)\n",
            "Requirement already satisfied: packaging in /usr/local/lib/python3.10/dist-packages (from gradio) (24.1)\n",
            "Requirement already satisfied: pandas<3.0,>=1.0 in /usr/local/lib/python3.10/dist-packages (from gradio) (2.1.4)\n",
            "Requirement already satisfied: pillow<11.0,>=8.0 in /usr/local/lib/python3.10/dist-packages (from gradio) (10.4.0)\n",
            "Requirement already satisfied: pydub in /usr/local/lib/python3.10/dist-packages (from gradio) (0.25.1)\n",
            "Requirement already satisfied: python-multipart>=0.0.9 in /usr/local/lib/python3.10/dist-packages (from gradio) (0.0.9)\n",
            "Requirement already satisfied: pyyaml<7.0,>=5.0 in /usr/local/lib/python3.10/dist-packages (from gradio) (6.0.2)\n",
            "Requirement already satisfied: ruff>=0.2.2 in /usr/local/lib/python3.10/dist-packages (from gradio) (0.6.6)\n",
            "Requirement already satisfied: semantic-version~=2.0 in /usr/local/lib/python3.10/dist-packages (from gradio) (2.10.0)\n",
            "Requirement already satisfied: tomlkit==0.12.0 in /usr/local/lib/python3.10/dist-packages (from gradio) (0.12.0)\n",
            "Requirement already satisfied: typer<1.0,>=0.12 in /usr/local/lib/python3.10/dist-packages (from gradio) (0.12.5)\n",
            "Requirement already satisfied: urllib3~=2.0 in /usr/local/lib/python3.10/dist-packages (from gradio) (2.0.7)\n",
            "Requirement already satisfied: uvicorn>=0.14.0 in /usr/local/lib/python3.10/dist-packages (from gradio) (0.30.6)\n",
            "Requirement already satisfied: fsspec in /usr/local/lib/python3.10/dist-packages (from gradio-client==1.3.0->gradio) (2024.6.1)\n",
            "Requirement already satisfied: websockets<13.0,>=10.0 in /usr/local/lib/python3.10/dist-packages (from gradio-client==1.3.0->gradio) (12.0)\n",
            "Requirement already satisfied: idna>=2.8 in /usr/local/lib/python3.10/dist-packages (from anyio<5,>=3.5.0->openai) (3.10)\n",
            "Requirement already satisfied: exceptiongroup in /usr/local/lib/python3.10/dist-packages (from anyio<5,>=3.5.0->openai) (1.2.2)\n",
            "Requirement already satisfied: starlette<0.39.0,>=0.37.2 in /usr/local/lib/python3.10/dist-packages (from fastapi<1.0->gradio) (0.38.5)\n",
            "Requirement already satisfied: certifi in /usr/local/lib/python3.10/dist-packages (from httpx<1,>=0.23.0->openai) (2024.8.30)\n",
            "Requirement already satisfied: httpcore==1.* in /usr/local/lib/python3.10/dist-packages (from httpx<1,>=0.23.0->openai) (1.0.5)\n",
            "Requirement already satisfied: h11<0.15,>=0.13 in /usr/local/lib/python3.10/dist-packages (from httpcore==1.*->httpx<1,>=0.23.0->openai) (0.14.0)\n",
            "Requirement already satisfied: filelock in /usr/local/lib/python3.10/dist-packages (from huggingface-hub>=0.19.3->gradio) (3.16.0)\n",
            "Requirement already satisfied: requests in /usr/local/lib/python3.10/dist-packages (from huggingface-hub>=0.19.3->gradio) (2.32.3)\n",
            "Requirement already satisfied: contourpy>=1.0.1 in /usr/local/lib/python3.10/dist-packages (from matplotlib~=3.0->gradio) (1.3.0)\n",
            "Requirement already satisfied: cycler>=0.10 in /usr/local/lib/python3.10/dist-packages (from matplotlib~=3.0->gradio) (0.12.1)\n",
            "Requirement already satisfied: fonttools>=4.22.0 in /usr/local/lib/python3.10/dist-packages (from matplotlib~=3.0->gradio) (4.53.1)\n",
            "Requirement already satisfied: kiwisolver>=1.0.1 in /usr/local/lib/python3.10/dist-packages (from matplotlib~=3.0->gradio) (1.4.7)\n",
            "Requirement already satisfied: pyparsing>=2.3.1 in /usr/local/lib/python3.10/dist-packages (from matplotlib~=3.0->gradio) (3.1.4)\n",
            "Requirement already satisfied: python-dateutil>=2.7 in /usr/local/lib/python3.10/dist-packages (from matplotlib~=3.0->gradio) (2.8.2)\n",
            "Requirement already satisfied: pytz>=2020.1 in /usr/local/lib/python3.10/dist-packages (from pandas<3.0,>=1.0->gradio) (2024.2)\n",
            "Requirement already satisfied: tzdata>=2022.1 in /usr/local/lib/python3.10/dist-packages (from pandas<3.0,>=1.0->gradio) (2024.1)\n",
            "Requirement already satisfied: annotated-types>=0.6.0 in /usr/local/lib/python3.10/dist-packages (from pydantic<3,>=1.9.0->openai) (0.7.0)\n",
            "Requirement already satisfied: pydantic-core==2.23.4 in /usr/local/lib/python3.10/dist-packages (from pydantic<3,>=1.9.0->openai) (2.23.4)\n",
            "Requirement already satisfied: click>=8.0.0 in /usr/local/lib/python3.10/dist-packages (from typer<1.0,>=0.12->gradio) (8.1.7)\n",
            "Requirement already satisfied: shellingham>=1.3.0 in /usr/local/lib/python3.10/dist-packages (from typer<1.0,>=0.12->gradio) (1.5.4)\n",
            "Requirement already satisfied: rich>=10.11.0 in /usr/local/lib/python3.10/dist-packages (from typer<1.0,>=0.12->gradio) (13.8.1)\n",
            "Requirement already satisfied: six>=1.5 in /usr/local/lib/python3.10/dist-packages (from python-dateutil>=2.7->matplotlib~=3.0->gradio) (1.16.0)\n",
            "Requirement already satisfied: markdown-it-py>=2.2.0 in /usr/local/lib/python3.10/dist-packages (from rich>=10.11.0->typer<1.0,>=0.12->gradio) (3.0.0)\n",
            "Requirement already satisfied: pygments<3.0.0,>=2.13.0 in /usr/local/lib/python3.10/dist-packages (from rich>=10.11.0->typer<1.0,>=0.12->gradio) (2.18.0)\n",
            "Requirement already satisfied: charset-normalizer<4,>=2 in /usr/local/lib/python3.10/dist-packages (from requests->huggingface-hub>=0.19.3->gradio) (3.3.2)\n",
            "Requirement already satisfied: mdurl~=0.1 in /usr/local/lib/python3.10/dist-packages (from markdown-it-py>=2.2.0->rich>=10.11.0->typer<1.0,>=0.12->gradio) (0.1.2)\n",
            "Setting queue=True in a Colab notebook requires sharing enabled. Setting `share=True` (you can turn this off by setting `share=False` in `launch()` explicitly).\n",
            "\n",
            "Colab notebook detected. To show errors in colab notebook, set debug=True in launch()\n",
            "Running on public URL: https://e5a4bce814ef50cfe7.gradio.live\n",
            "\n",
            "This share link expires in 72 hours. For free permanent hosting and GPU upgrades, run `gradio deploy` from Terminal to deploy to Spaces (https://huggingface.co/spaces)\n"
          ]
        },
        {
          "output_type": "display_data",
          "data": {
            "text/plain": [
              "<IPython.core.display.HTML object>"
            ],
            "text/html": [
              "<div><iframe src=\"https://e5a4bce814ef50cfe7.gradio.live\" width=\"100%\" height=\"500\" allow=\"autoplay; camera; microphone; clipboard-read; clipboard-write;\" frameborder=\"0\" allowfullscreen></iframe></div>"
            ]
          },
          "metadata": {}
        },
        {
          "output_type": "execute_result",
          "data": {
            "text/plain": []
          },
          "metadata": {},
          "execution_count": 21
        }
      ]
    }
  ]
}